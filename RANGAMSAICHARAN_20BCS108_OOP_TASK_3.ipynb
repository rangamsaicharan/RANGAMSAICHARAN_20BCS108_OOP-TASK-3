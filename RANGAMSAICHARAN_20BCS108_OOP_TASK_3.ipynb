{
  "nbformat": 4,
  "nbformat_minor": 0,
  "metadata": {
    "colab": {
      "name": "RANGAMSAICHARAN_20BCS108_OOP TASK 3",
      "provenance": [],
      "authorship_tag": "ABX9TyOGnhy3pv70d9Q+Uqn5zkHv",
      "include_colab_link": true
    },
    "kernelspec": {
      "name": "python3",
      "display_name": "Python 3"
    },
    "language_info": {
      "name": "python"
    }
  },
  "cells": [
    {
      "cell_type": "markdown",
      "metadata": {
        "id": "view-in-github",
        "colab_type": "text"
      },
      "source": [
        "<a href=\"https://colab.research.google.com/github/rangamsaicharan/RANGAMSAICHARAN_20BCS108_OOP-TASK-3/blob/main/RANGAMSAICHARAN_20BCS108_OOP_TASK_3.ipynb\" target=\"_parent\"><img src=\"https://colab.research.google.com/assets/colab-badge.svg\" alt=\"Open In Colab\"/></a>"
      ]
    },
    {
      "cell_type": "code",
      "metadata": {
        "colab": {
          "base_uri": "https://localhost:8080/"
        },
        "id": "IYRk605OOHko",
        "outputId": "952a4b02-a9bf-4a38-f6d1-5abd2447e15f"
      },
      "source": [
        "class Student:\n",
        "  def __init__(self, Name, Reg_No, Age, Gender, Branch, Sem,):\n",
        "    self.Name = Name\n",
        "    self.Reg_No = Reg_No\n",
        "    self.Age = Age\n",
        "    self.Gender = Gender\n",
        "    self.Branch = Branch\n",
        "    self.Sem = Sem\n",
        "\n",
        "class StudentResultInfo(Student):\n",
        "  def __init__(self, Name, Reg_No, Age, Gender, Branch, Sem, Total_Marks, Percentage, Grade):\n",
        "    Student.__init__(self, Name, Reg_No, Age, Gender, Branch, Sem)\n",
        "    self.Total_Marks = Total_Marks\n",
        "    self.Percentage = Percentage\n",
        "    self.Grade = Grade\n",
        "     \n",
        "  def disp(self):\n",
        "    print(\"Name:\", self.Name)\n",
        "    print(\"Reg_No:\", self.Reg_No)\n",
        "    print(\"Age:\", self.Age)\n",
        "    print(\"Gender:\", self.Gender)\n",
        "    print(\"Branch:\", self.Branch)\n",
        "    print(\"Sem:\", self.Sem)\n",
        "    print(\"Total_Marks:\", self.Total_Marks)\n",
        "    print(\"percentage:\", self.Percentage)\n",
        "    print(\"Grade:\", self.Grade)\n",
        "  \n",
        "S1 = StudentResultInfo(\"saicharan\", \"20bcs108\", 20, \"Male\", \"CSE\", 3, 100, 50, 5.0)\n",
        "S1.disp()"
      ],
      "execution_count": 15,
      "outputs": [
        {
          "output_type": "stream",
          "name": "stdout",
          "text": [
            "Name: saicharan\n",
            "Reg_No: 20bcs108\n",
            "Age: 20\n",
            "Gender: Male\n",
            "Branch: CSE\n",
            "Sem: 3\n",
            "Total_Marks: 100\n",
            "percentage: 50\n",
            "Grade: 5.0\n"
          ]
        }
      ]
    },
    {
      "cell_type": "code",
      "metadata": {
        "colab": {
          "base_uri": "https://localhost:8080/"
        },
        "id": "UEg74pjiPzgs",
        "outputId": "3ccf9f0c-6ada-4c55-deeb-5dd2be25b95b"
      },
      "source": [
        "class PDFs:\n",
        "  def __init__(self, creator, description, size):\n",
        "    self.creator = creator\n",
        "    self.description = description\n",
        "    self.size = size\n",
        "\n",
        "  def displayInfo(self):\n",
        "    print(\"Created by:\",self.creator)\n",
        "    print(\"Description:\", self.description)\n",
        "    print(\"File size (in KBs):\", self.size)\n",
        "\n",
        "  def sizeLimit(self):\n",
        "    if self.size > 256:\n",
        "      print(\"Size exceeds threshold.\\n\")\n",
        "    else:\n",
        "      print(\"Size is within the threshold.\\n\")\n",
        "\n",
        "class Pictures(PDFs):\n",
        "  def __init__(self, creator, description, size, dimension):\n",
        "    super().__init__(creator, description, size)\n",
        "    self.dimension = dimension\n",
        "\n",
        "  def displayPicInfo(self):\n",
        "    self.displayInfo()\n",
        "    print(\"Dimensions (in pixels):\", self.dimension)\n",
        "\n",
        "  def dimensionLimit(self):\n",
        "    if self.dimension>2000:\n",
        "      print(\" high dimension!\\n\")\n",
        "    else:\n",
        "      print(\" dimensions are fine.\\n\")\n",
        "      \n",
        "pdf1 = PDFs(\"QWERTY\", \"LMNOP\", 14.7)\n",
        "pdf1.displayInfo()\n",
        "pdf1.sizeLimit()\n",
        "print()\n",
        "img = Pictures(\"IJKL\", \"UVWX\",2527,3072)\n",
        "img.displayPicInfo()\n",
        "img.dimensionLimit()"
      ],
      "execution_count": 26,
      "outputs": [
        {
          "output_type": "stream",
          "name": "stdout",
          "text": [
            "Created by: QWERTY\n",
            "Description: LMNOP\n",
            "File size (in KBs): 14.7\n",
            "Size is within the threshold.\n",
            "\n",
            "\n",
            "Created by: IJKL\n",
            "Description: UVWX\n",
            "File size (in KBs): 2527\n",
            "Dimensions (in pixels): 3072\n",
            " high dimension!\n",
            "\n"
          ]
        }
      ]
    },
    {
      "cell_type": "code",
      "metadata": {
        "colab": {
          "base_uri": "https://localhost:8080/"
        },
        "id": "LYleaHvB_bLl",
        "outputId": "7f0fd38c-ffef-4e88-93c0-6d975ee2d451"
      },
      "source": [
        "class Vehicle:\n",
        "    def __init__(self, name, mileage, capacity):\n",
        "        self.name = name\n",
        "        self.mileage = mileage\n",
        "        self.capacity = capacity\n",
        "\n",
        "    def fare(self):\n",
        "        return self.capacity * 100\n",
        "\n",
        "class Bus(Vehicle):\n",
        "    \n",
        "    def fare(self):\n",
        "        fare_bus = self.capacity * 100 \n",
        "        total_fare = fare_bus + (0.1 *fare_bus)\n",
        "        return total_fare\n",
        "\n",
        "School_bus = Bus(\"School Volvo\", 12, 50)\n",
        "print(\"Total Bus fare is:\", School_bus.fare())"
      ],
      "execution_count": null,
      "outputs": [
        {
          "output_type": "stream",
          "name": "stdout",
          "text": [
            "Total Bus fare is: 5500.0\n"
          ]
        }
      ]
    }
  ]
}